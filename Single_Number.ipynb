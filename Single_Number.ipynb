{
 "cells": [
  {
   "cell_type": "markdown",
   "id": "43f7ec91",
   "metadata": {},
   "source": [
    "Given a non-empty array of integers nums, every element appears twice except for one. Find that single one.\n",
    "\n",
    "You must implement a solution with a linear runtime complexity and use only constant extra space."
   ]
  },
  {
   "cell_type": "code",
   "execution_count": 21,
   "id": "3dd58874",
   "metadata": {},
   "outputs": [],
   "source": [
    "import operator\n",
    "from functools import reduce\n",
    "\n",
    "def singleNumber(nums):\n",
    "    return reduce(operator.xor, nums)"
   ]
  },
  {
   "cell_type": "code",
   "execution_count": 22,
   "id": "1c3c743b",
   "metadata": {
    "scrolled": true
   },
   "outputs": [
    {
     "name": "stdout",
     "output_type": "stream",
     "text": [
      "1\n"
     ]
    }
   ],
   "source": [
    "print(singleNumber([2,2,1]))"
   ]
  },
  {
   "cell_type": "code",
   "execution_count": 23,
   "id": "1ff54d2b",
   "metadata": {
    "scrolled": true
   },
   "outputs": [
    {
     "name": "stdout",
     "output_type": "stream",
     "text": [
      "4\n"
     ]
    }
   ],
   "source": [
    "print(singleNumber([4,1,2,1,2]))"
   ]
  }
 ],
 "metadata": {
  "kernelspec": {
   "display_name": "Python 3",
   "language": "python",
   "name": "python3"
  },
  "language_info": {
   "codemirror_mode": {
    "name": "ipython",
    "version": 3
   },
   "file_extension": ".py",
   "mimetype": "text/x-python",
   "name": "python",
   "nbconvert_exporter": "python",
   "pygments_lexer": "ipython3",
   "version": "3.8.8"
  }
 },
 "nbformat": 4,
 "nbformat_minor": 5
}
