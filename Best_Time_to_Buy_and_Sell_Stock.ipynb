{
 "cells": [
  {
   "cell_type": "markdown",
   "id": "80d757b3",
   "metadata": {},
   "source": [
    "You are given an integer array prices where prices[i] is the price of a given stock on the ith day.\n",
    "\n",
    "On each day, you may decide to buy and/or sell the stock. You can only hold at most one share of the stock at any time. However, you can buy it then immediately sell it on the same day.\n",
    "\n",
    "Find and return the maximum profit you can achieve."
   ]
  },
  {
   "cell_type": "code",
   "execution_count": 24,
   "id": "75a2cd31",
   "metadata": {},
   "outputs": [],
   "source": [
    "def maxProfit(prices):\n",
    "    hold_stock = 0\n",
    "    cash_flow = 0\n",
    "    for curr_item, next_item in zip(prices[:-1], prices[1:]):\n",
    "\n",
    "        if curr_item < next_item and hold_stock == 0:\n",
    "            hold_stock = 1\n",
    "            cash_flow -= curr_item\n",
    "\n",
    "        if curr_item > next_item and hold_stock == 1:\n",
    "            hold_stock = 0\n",
    "            cash_flow += curr_item\n",
    "\n",
    "    if hold_stock == 1:\n",
    "        cash_flow += prices[len(prices)-1]\n",
    "\n",
    "    return cash_flow\n",
    "            "
   ]
  },
  {
   "cell_type": "code",
   "execution_count": 35,
   "id": "d8517803",
   "metadata": {},
   "outputs": [
    {
     "name": "stdout",
     "output_type": "stream",
     "text": [
      "12\n"
     ]
    }
   ],
   "source": [
    "print(maxProfit([5,1,2,3,8,4,9]))"
   ]
  }
 ],
 "metadata": {
  "kernelspec": {
   "display_name": "Python 3",
   "language": "python",
   "name": "python3"
  },
  "language_info": {
   "codemirror_mode": {
    "name": "ipython",
    "version": 3
   },
   "file_extension": ".py",
   "mimetype": "text/x-python",
   "name": "python",
   "nbconvert_exporter": "python",
   "pygments_lexer": "ipython3",
   "version": "3.8.8"
  }
 },
 "nbformat": 4,
 "nbformat_minor": 5
}
