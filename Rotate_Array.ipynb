{
 "cells": [
  {
   "cell_type": "markdown",
   "id": "d66c25ac",
   "metadata": {},
   "source": [
    "Given an array, rotate the array to the right by k steps, where k is non-negative.\n",
    "Do not return anything, modify nums in-place instead."
   ]
  },
  {
   "cell_type": "code",
   "execution_count": 56,
   "id": "0bab69af",
   "metadata": {},
   "outputs": [],
   "source": [
    "def rotate(nums, k) -> None:\n",
    "    k = k % len(nums)\n",
    "    nums[:] = nums[len(nums)-k:len(nums)] + nums[0:len(nums)-k]\n",
    "    print(nums)"
   ]
  },
  {
   "cell_type": "markdown",
   "id": "90ecd6cb",
   "metadata": {},
   "source": [
    "Runtime: O(n)"
   ]
  },
  {
   "cell_type": "code",
   "execution_count": 57,
   "id": "b3a5228a",
   "metadata": {
    "scrolled": true
   },
   "outputs": [
    {
     "name": "stdout",
     "output_type": "stream",
     "text": [
      "[5, 6, 7, 1, 2, 3, 4]\n"
     ]
    }
   ],
   "source": [
    "rotate([1,2,3,4,5,6,7], 3)"
   ]
  },
  {
   "cell_type": "code",
   "execution_count": 58,
   "id": "0a29cf5b",
   "metadata": {},
   "outputs": [
    {
     "name": "stdout",
     "output_type": "stream",
     "text": [
      "[3, 99, -1, -100]\n"
     ]
    }
   ],
   "source": [
    "rotate([-1,-100,3,99],2)"
   ]
  },
  {
   "cell_type": "code",
   "execution_count": 59,
   "id": "6070ebee",
   "metadata": {},
   "outputs": [
    {
     "name": "stdout",
     "output_type": "stream",
     "text": [
      "[4, 5, 6, 7, 1, 2, 3]\n"
     ]
    }
   ],
   "source": [
    "rotate([1,2,3,4,5,6,7], 11)"
   ]
  }
 ],
 "metadata": {
  "kernelspec": {
   "display_name": "Python 3",
   "language": "python",
   "name": "python3"
  },
  "language_info": {
   "codemirror_mode": {
    "name": "ipython",
    "version": 3
   },
   "file_extension": ".py",
   "mimetype": "text/x-python",
   "name": "python",
   "nbconvert_exporter": "python",
   "pygments_lexer": "ipython3",
   "version": "3.8.8"
  }
 },
 "nbformat": 4,
 "nbformat_minor": 5
}
