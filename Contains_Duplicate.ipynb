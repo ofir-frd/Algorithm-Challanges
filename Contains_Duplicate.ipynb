{
 "cells": [
  {
   "cell_type": "markdown",
   "id": "43f7ec91",
   "metadata": {},
   "source": [
    "Given an integer array nums, return true if any value appears at least twice in the array, and return false if every element is distinct."
   ]
  },
  {
   "cell_type": "code",
   "execution_count": 2,
   "id": "c6d9dbfd",
   "metadata": {},
   "outputs": [],
   "source": [
    "def containsDuplicate(nums):\n",
    "    \n",
    "    if len(nums) < 2:\n",
    "        return False\n",
    "    \n",
    "    nums.sort()\n",
    "    \n",
    "    for curr_item, next_item in zip(nums[:-1], nums[1:]):\n",
    "        if curr_item == next_item:\n",
    "            return True\n",
    "        \n",
    "    return False    "
   ]
  },
  {
   "cell_type": "code",
   "execution_count": 5,
   "id": "1c3c743b",
   "metadata": {
    "scrolled": true
   },
   "outputs": [
    {
     "name": "stdout",
     "output_type": "stream",
     "text": [
      "True\n"
     ]
    }
   ],
   "source": [
    "print(containsDuplicate([1,2,3,4,2]))"
   ]
  },
  {
   "cell_type": "code",
   "execution_count": 6,
   "id": "b1529c4b",
   "metadata": {},
   "outputs": [
    {
     "name": "stdout",
     "output_type": "stream",
     "text": [
      "False\n"
     ]
    }
   ],
   "source": [
    "print(containsDuplicate([1,2,3,4]))"
   ]
  }
 ],
 "metadata": {
  "kernelspec": {
   "display_name": "Python 3",
   "language": "python",
   "name": "python3"
  },
  "language_info": {
   "codemirror_mode": {
    "name": "ipython",
    "version": 3
   },
   "file_extension": ".py",
   "mimetype": "text/x-python",
   "name": "python",
   "nbconvert_exporter": "python",
   "pygments_lexer": "ipython3",
   "version": "3.8.8"
  }
 },
 "nbformat": 4,
 "nbformat_minor": 5
}
